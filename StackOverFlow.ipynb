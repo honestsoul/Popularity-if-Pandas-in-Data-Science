{
 "cells": [
  {
   "cell_type": "markdown",
   "metadata": {
    "collapsed": true
   },
   "source": [
    "# We are going to see the Trends for Pandas among Data Analysts"
   ]
  },
  {
   "cell_type": "code",
   "execution_count": null,
   "metadata": {
    "collapsed": true
   },
   "outputs": [],
   "source": [
    "import pandas as pd\n",
    "import numpy as np\n",
    "import matplotlib\n",
    "from IPython.display import IFrame"
   ]
  },
  {
   "cell_type": "code",
   "execution_count": 13,
   "metadata": {
    "collapsed": true
   },
   "outputs": [],
   "source": [
    "import matplotlib\n",
    "# display graphs inline\n",
    "%matplotlib inline \n",
    "\n",
    "# Make graphs prettier\n",
    "pd.set_option('display.max_columns', 15)\n",
    "pd.set_option('display.width', 400)\n",
    "#pd.set_option('display.mpl_style', 'default')\n",
    "matplotlib.style.use('ggplot')\n",
    "# Make the fonts bigger\n",
    "matplotlib.rc('figure', figsize=(14, 7))\n",
    "matplotlib.rc('font', family='normal', weight='bold', size=22)\n",
    "import matplotlib.pyplot as plt"
   ]
  },
  {
   "cell_type": "markdown",
   "metadata": {},
   "source": [
    "# I just quaried against the stackexachange using the the SQL -  \n",
    "select * from Posts where Title like '%pandas%'"
   ]
  },
  {
   "cell_type": "code",
   "execution_count": 3,
   "metadata": {
    "collapsed": false
   },
   "outputs": [
    {
     "data": {
      "text/html": [
       "\n",
       "        <iframe\n",
       "            width=\"700\"\n",
       "            height=\"700\"\n",
       "            src=\"https://data.stackexchange.com/stackoverflow/query/new\"\n",
       "            frameborder=\"0\"\n",
       "            allowfullscreen\n",
       "        ></iframe>\n",
       "        "
      ],
      "text/plain": [
       "<IPython.lib.display.IFrame at 0x3f0df28>"
      ]
     },
     "execution_count": 3,
     "metadata": {},
     "output_type": "execute_result"
    }
   ],
   "source": [
    "IFrame('https://data.stackexchange.com/stackoverflow/query/new', width=700, height=700)"
   ]
  },
  {
   "cell_type": "code",
   "execution_count": 4,
   "metadata": {
    "collapsed": true
   },
   "outputs": [],
   "source": [
    "fixed_df = pd.read_csv('../data/so_pandas.csv', sep=',', encoding='latin1', parse_dates=['CreationDate'], dayfirst=True)"
   ]
  },
  {
   "cell_type": "code",
   "execution_count": null,
   "metadata": {
    "collapsed": true
   },
   "outputs": [],
   "source": []
  },
  {
   "cell_type": "code",
   "execution_count": 5,
   "metadata": {
    "collapsed": false
   },
   "outputs": [
    {
     "data": {
      "text/html": [
       "<div>\n",
       "<table border=\"1\" class=\"dataframe\">\n",
       "  <thead>\n",
       "    <tr style=\"text-align: right;\">\n",
       "      <th></th>\n",
       "      <th>Id</th>\n",
       "      <th>PostTypeId</th>\n",
       "      <th>AcceptedAnswerId</th>\n",
       "      <th>ParentId</th>\n",
       "      <th>CreationDate</th>\n",
       "      <th>DeletionDate</th>\n",
       "      <th>Score</th>\n",
       "      <th>ViewCount</th>\n",
       "      <th>Body</th>\n",
       "      <th>OwnerUserId</th>\n",
       "      <th>...</th>\n",
       "      <th>LastEditorDisplayName</th>\n",
       "      <th>LastEditDate</th>\n",
       "      <th>LastActivityDate</th>\n",
       "      <th>Title</th>\n",
       "      <th>Tags</th>\n",
       "      <th>AnswerCount</th>\n",
       "      <th>CommentCount</th>\n",
       "      <th>FavoriteCount</th>\n",
       "      <th>ClosedDate</th>\n",
       "      <th>CommunityOwnedDate</th>\n",
       "    </tr>\n",
       "  </thead>\n",
       "  <tbody>\n",
       "    <tr>\n",
       "      <th>0</th>\n",
       "      <td>25524916</td>\n",
       "      <td>1</td>\n",
       "      <td>25526424</td>\n",
       "      <td>NaN</td>\n",
       "      <td>2014-08-27 10:35:58</td>\n",
       "      <td>NaN</td>\n",
       "      <td>1</td>\n",
       "      <td>548</td>\n",
       "      <td>&lt;p&gt;I have searched along the web for an answer...</td>\n",
       "      <td>3887490</td>\n",
       "      <td>...</td>\n",
       "      <td>NaN</td>\n",
       "      <td>2014-08-27 12:00:45</td>\n",
       "      <td>2014-08-27 12:00:45</td>\n",
       "      <td>Python Pandas - Split different entries into s...</td>\n",
       "      <td>&lt;python&gt;&lt;table&gt;&lt;csv&gt;&lt;pandas&gt;</td>\n",
       "      <td>1</td>\n",
       "      <td>0</td>\n",
       "      <td>2</td>\n",
       "      <td>NaN</td>\n",
       "      <td>NaN</td>\n",
       "    </tr>\n",
       "    <tr>\n",
       "      <th>1</th>\n",
       "      <td>30101979</td>\n",
       "      <td>1</td>\n",
       "      <td>NaN</td>\n",
       "      <td>NaN</td>\n",
       "      <td>2015-05-07 13:06:45</td>\n",
       "      <td>NaN</td>\n",
       "      <td>2</td>\n",
       "      <td>80</td>\n",
       "      <td>&lt;p&gt;I came across a weird situation using boole...</td>\n",
       "      <td>4875040</td>\n",
       "      <td>...</td>\n",
       "      <td>NaN</td>\n",
       "      <td>NaN</td>\n",
       "      <td>2015-05-07 13:06:45</td>\n",
       "      <td>unintuitive selection in a pandas dataframe us...</td>\n",
       "      <td>&lt;python&gt;&lt;numpy&gt;&lt;pandas&gt;</td>\n",
       "      <td>0</td>\n",
       "      <td>2</td>\n",
       "      <td>NaN</td>\n",
       "      <td>NaN</td>\n",
       "      <td>NaN</td>\n",
       "    </tr>\n",
       "    <tr>\n",
       "      <th>2</th>\n",
       "      <td>32314890</td>\n",
       "      <td>1</td>\n",
       "      <td>32315542</td>\n",
       "      <td>NaN</td>\n",
       "      <td>2015-08-31 15:34:14</td>\n",
       "      <td>NaN</td>\n",
       "      <td>1</td>\n",
       "      <td>125</td>\n",
       "      <td>&lt;p&gt;This is referred to a questions answered be...</td>\n",
       "      <td>3968028</td>\n",
       "      <td>...</td>\n",
       "      <td>NaN</td>\n",
       "      <td>2015-08-31 16:29:16</td>\n",
       "      <td>2015-08-31 16:29:16</td>\n",
       "      <td>Transpose multiple variables in rows to column...</td>\n",
       "      <td>&lt;python&gt;&lt;python-2.7&gt;&lt;pandas&gt;&lt;sas&gt;</td>\n",
       "      <td>1</td>\n",
       "      <td>0</td>\n",
       "      <td>NaN</td>\n",
       "      <td>NaN</td>\n",
       "      <td>NaN</td>\n",
       "    </tr>\n",
       "    <tr>\n",
       "      <th>3</th>\n",
       "      <td>34516010</td>\n",
       "      <td>1</td>\n",
       "      <td>34517012</td>\n",
       "      <td>NaN</td>\n",
       "      <td>2015-12-29 17:33:49</td>\n",
       "      <td>NaN</td>\n",
       "      <td>-1</td>\n",
       "      <td>65</td>\n",
       "      <td>&lt;p&gt;I have a function saved and defined in a di...</td>\n",
       "      <td>5235265</td>\n",
       "      <td>...</td>\n",
       "      <td>NaN</td>\n",
       "      <td>NaN</td>\n",
       "      <td>2015-12-29 18:38:34</td>\n",
       "      <td>pandas rolling_apply TypeError: int object is ...</td>\n",
       "      <td>&lt;python&gt;&lt;pandas&gt;</td>\n",
       "      <td>1</td>\n",
       "      <td>0</td>\n",
       "      <td>NaN</td>\n",
       "      <td>NaN</td>\n",
       "      <td>NaN</td>\n",
       "    </tr>\n",
       "    <tr>\n",
       "      <th>4</th>\n",
       "      <td>32315071</td>\n",
       "      <td>1</td>\n",
       "      <td>NaN</td>\n",
       "      <td>NaN</td>\n",
       "      <td>2015-08-31 15:44:09</td>\n",
       "      <td>NaN</td>\n",
       "      <td>1</td>\n",
       "      <td>75</td>\n",
       "      <td>&lt;p&gt;I've been using pandas for a while and I th...</td>\n",
       "      <td>4730543</td>\n",
       "      <td>...</td>\n",
       "      <td>NaN</td>\n",
       "      <td>2015-08-31 17:32:38</td>\n",
       "      <td>2015-08-31 17:32:38</td>\n",
       "      <td>Pandas sometimes writes empty or damaged files</td>\n",
       "      <td>&lt;python&gt;&lt;excel&gt;&lt;python-2.7&gt;&lt;pandas&gt;</td>\n",
       "      <td>0</td>\n",
       "      <td>9</td>\n",
       "      <td>NaN</td>\n",
       "      <td>NaN</td>\n",
       "      <td>NaN</td>\n",
       "    </tr>\n",
       "  </tbody>\n",
       "</table>\n",
       "<p>5 rows × 22 columns</p>\n",
       "</div>"
      ],
      "text/plain": [
       "         Id  PostTypeId  AcceptedAnswerId  ParentId        CreationDate  \\\n",
       "0  25524916           1          25526424       NaN 2014-08-27 10:35:58   \n",
       "1  30101979           1               NaN       NaN 2015-05-07 13:06:45   \n",
       "2  32314890           1          32315542       NaN 2015-08-31 15:34:14   \n",
       "3  34516010           1          34517012       NaN 2015-12-29 17:33:49   \n",
       "4  32315071           1               NaN       NaN 2015-08-31 15:44:09   \n",
       "\n",
       "   DeletionDate  Score  ViewCount  \\\n",
       "0           NaN      1        548   \n",
       "1           NaN      2         80   \n",
       "2           NaN      1        125   \n",
       "3           NaN     -1         65   \n",
       "4           NaN      1         75   \n",
       "\n",
       "                                                Body  OwnerUserId  \\\n",
       "0  <p>I have searched along the web for an answer...      3887490   \n",
       "1  <p>I came across a weird situation using boole...      4875040   \n",
       "2  <p>This is referred to a questions answered be...      3968028   \n",
       "3  <p>I have a function saved and defined in a di...      5235265   \n",
       "4  <p>I've been using pandas for a while and I th...      4730543   \n",
       "\n",
       "          ...         LastEditorDisplayName         LastEditDate  \\\n",
       "0         ...                           NaN  2014-08-27 12:00:45   \n",
       "1         ...                           NaN                  NaN   \n",
       "2         ...                           NaN  2015-08-31 16:29:16   \n",
       "3         ...                           NaN                  NaN   \n",
       "4         ...                           NaN  2015-08-31 17:32:38   \n",
       "\n",
       "      LastActivityDate                                              Title  \\\n",
       "0  2014-08-27 12:00:45  Python Pandas - Split different entries into s...   \n",
       "1  2015-05-07 13:06:45  unintuitive selection in a pandas dataframe us...   \n",
       "2  2015-08-31 16:29:16  Transpose multiple variables in rows to column...   \n",
       "3  2015-12-29 18:38:34  pandas rolling_apply TypeError: int object is ...   \n",
       "4  2015-08-31 17:32:38     Pandas sometimes writes empty or damaged files   \n",
       "\n",
       "                                  Tags AnswerCount CommentCount  \\\n",
       "0         <python><table><csv><pandas>           1            0   \n",
       "1              <python><numpy><pandas>           0            2   \n",
       "2    <python><python-2.7><pandas><sas>           1            0   \n",
       "3                     <python><pandas>           1            0   \n",
       "4  <python><excel><python-2.7><pandas>           0            9   \n",
       "\n",
       "   FavoriteCount  ClosedDate  CommunityOwnedDate  \n",
       "0              2         NaN                 NaN  \n",
       "1            NaN         NaN                 NaN  \n",
       "2            NaN         NaN                 NaN  \n",
       "3            NaN         NaN                 NaN  \n",
       "4            NaN         NaN                 NaN  \n",
       "\n",
       "[5 rows x 22 columns]"
      ]
     },
     "execution_count": 5,
     "metadata": {},
     "output_type": "execute_result"
    }
   ],
   "source": [
    "fixed_df.head()"
   ]
  },
  {
   "cell_type": "code",
   "execution_count": 10,
   "metadata": {
    "collapsed": false
   },
   "outputs": [],
   "source": [
    "\n",
    "fixed_df['year'] = fixed_df['CreationDate'].apply(lambda x : x.year)"
   ]
  },
  {
   "cell_type": "code",
   "execution_count": null,
   "metadata": {
    "collapsed": true
   },
   "outputs": [],
   "source": []
  },
  {
   "cell_type": "code",
   "execution_count": 11,
   "metadata": {
    "collapsed": false
   },
   "outputs": [],
   "source": [
    "new_df = fixed_df.groupby('year').aggregate(np.sum)\n"
   ]
  },
  {
   "cell_type": "markdown",
   "metadata": {},
   "source": [
    "# This is  late April of 2016 and you can see number of posts have already been crossed to 1500 so in next 8 months they will definately be above (4000- Approx No. of posts related to Pandas last Month)"
   ]
  },
  {
   "cell_type": "code",
   "execution_count": 14,
   "metadata": {
    "collapsed": false
   },
   "outputs": [
    {
     "data": {
      "text/plain": [
       "<matplotlib.axes._subplots.AxesSubplot at 0xe290b38>"
      ]
     },
     "execution_count": 14,
     "metadata": {},
     "output_type": "execute_result"
    },
    {
     "name": "stderr",
     "output_type": "stream",
     "text": [
      "C:\\Anaconda2\\lib\\site-packages\\matplotlib\\font_manager.py:1288: UserWarning: findfont: Font family [u'normal'] not found. Falling back to Bitstream Vera Sans\n",
      "  (prop.get_family(), self.defaultFamily[fontext]))\n"
     ]
    },
    {
     "data": {
      "image/png": "[encoded data removed]",
      "text/plain": [
       "<matplotlib.figure.Figure at 0xe281ef0>"
      ]
     },
     "metadata": {},
     "output_type": "display_data"
    }
   ],
   "source": [
    "new_df['PostTypeId'].plot(kind = 'bar')"
   ]
  },
  {
   "cell_type": "code",
   "execution_count": null,
   "metadata": {
    "collapsed": true
   },
   "outputs": [],
   "source": []
  },
  {
   "cell_type": "code",
   "execution_count": null,
   "metadata": {
    "collapsed": true
   },
   "outputs": [],
   "source": []
  }
 ],
 "metadata": {
  "kernelspec": {
   "display_name": "Python 2",
   "language": "python",
   "name": "python2"
  },
  "language_info": {
   "codemirror_mode": {
    "name": "ipython",
    "version": 2
   },
   "file_extension": ".py",
   "mimetype": "text/x-python",
   "name": "python",
   "nbconvert_exporter": "python",
   "pygments_lexer": "ipython2",
   "version": "2.7.11"
  }
 },
 "nbformat": 4,
 "nbformat_minor": 0
}
